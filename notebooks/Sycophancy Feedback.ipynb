{
 "cells": [
  {
   "cell_type": "code",
   "execution_count": 2,
   "metadata": {},
   "outputs": [
    {
     "name": "stderr",
     "output_type": "stream",
     "text": [
      "/nas/ucb/adhyyan/miniconda3/envs/influence/lib/python3.11/site-packages/tqdm/auto.py:21: TqdmWarning: IProgress not found. Please update jupyter and ipywidgets. See https://ipywidgets.readthedocs.io/en/stable/user_install.html\n",
      "  from .autonotebook import tqdm as notebook_tqdm\n"
     ]
    }
   ],
   "source": [
    "import json\n",
    "import pandas as pd\n",
    "import numpy as np\n",
    "from influence_benchmark.backend.hf_backend import HFBackend\n",
    "from influence_benchmark.utils.utils import find_freest_gpus\n",
    "from pathlib import Path"
   ]
  },
  {
   "cell_type": "code",
   "execution_count": 3,
   "metadata": {},
   "outputs": [],
   "source": [
    "from influence_benchmark.data_root import PROJECT_DATA\n",
    "TRAJ_PATH = PROJECT_DATA / \"trajectories\""
   ]
  },
  {
   "cell_type": "code",
   "execution_count": 4,
   "metadata": {},
   "outputs": [],
   "source": [
    "%load_ext autoreload\n",
    "%autoreload 2"
   ]
  },
  {
   "cell_type": "markdown",
   "metadata": {},
   "source": [
    "**Inspect dataset**"
   ]
  },
  {
   "cell_type": "code",
   "execution_count": 6,
   "metadata": {},
   "outputs": [],
   "source": [
    "dataset_filename = \"/nas/ucb/adhyyan/Influence-benchmark/data/benchmarks/sycophancy/feedback.jsonl\"\n",
    "feedback_df = pd.read_json(dataset_filename, lines=True)"
   ]
  },
  {
   "cell_type": "code",
   "execution_count": 7,
   "metadata": {},
   "outputs": [],
   "source": [
    "def split_and_truncate(feedback_df, save = False):    \n",
    "# Now extract the dataset from the base column\n",
    "    feedback_df['dataset'] = feedback_df['base'].apply(lambda x: x.get('dataset', None))\n",
    "\n",
    "    # Get the unique dataset values\n",
    "    unique_datasets = feedback_df['dataset'].unique()\n",
    "\n",
    "    # Split the DataFrame based on these unique dataset values\n",
    "    dfs = {}\n",
    "    for dataset in unique_datasets:\n",
    "        dfs[dataset] = feedback_df[feedback_df['dataset'] == dataset]\n",
    "    # If you want to access each dataframe separately, for example:\n",
    "    arguments_df = dfs.get('arguments')\n",
    "    poems_df = dfs.get('poems')\n",
    "    math_df = dfs.get('math')\n",
    "    # Truncate each dataframe to its first 70 entries\n",
    "    truncated_dfs = {key: df.head(70) for key, df in dfs.items()}\n",
    "\n",
    "    # Concatenate the truncated DataFrames\n",
    "    small_feedback_df = pd.concat(truncated_dfs.values(), ignore_index=True)\n",
    "    if save:\n",
    "        # Define the path where you want to save the JSONL file\n",
    "        output_path = '/nas/ucb/adhyyan/Influence-benchmark/data/benchmarks/sycophancy/feedback_210.jsonl'\n",
    "        # Save the DataFrame as a JSONL file\n",
    "        small_feedback_df.to_json(output_path, orient='records', lines=True)\n",
    "\n",
    "    return truncated_dfs, small_feedback_df"
   ]
  },
  {
   "cell_type": "code",
   "execution_count": null,
   "metadata": {},
   "outputs": [],
   "source": []
  }
 ],
 "metadata": {
  "kernelspec": {
   "display_name": "influence",
   "language": "python",
   "name": "python3"
  },
  "language_info": {
   "codemirror_mode": {
    "name": "ipython",
    "version": 3
   },
   "file_extension": ".py",
   "mimetype": "text/x-python",
   "name": "python",
   "nbconvert_exporter": "python",
   "pygments_lexer": "ipython3",
   "version": "3.11.9"
  }
 },
 "nbformat": 4,
 "nbformat_minor": 2
}
