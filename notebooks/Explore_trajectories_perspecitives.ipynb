{
 "cells": [
  {
   "cell_type": "markdown",
   "id": "0",
   "metadata": {},
   "source": [
    "# Explore trajectories: Different perspecitives"
   ]
  },
  {
   "cell_type": "code",
   "execution_count": null,
   "id": "1",
   "metadata": {},
   "outputs": [],
   "source": [
    "import pandas as pd\n",
    "from pathlib import Path"
   ]
  },
  {
   "cell_type": "code",
   "execution_count": null,
   "id": "2",
   "metadata": {},
   "outputs": [],
   "source": [
    "# define the runs you want to analyze and give them a nickname\n",
    "runs = {\n",
    "    \"1_1\": \"therapist-7env-persp1_1-07-31_16-20-21\", \n",
    "    \"3_1\": \"therapist-7env-persp3_1-07-31_16-32-29\", \n",
    "    \"3_3\":\"therapist-7env-persp3_3-07-31_22-44-30\",\n",
    "}"
   ]
  },
  {
   "cell_type": "code",
   "execution_count": null,
   "id": "3",
   "metadata": {},
   "outputs": [],
   "source": [
    "def load_df(run):\n",
    "    step = 5\n",
    "    trajectory_path = Path(f\"../data/trajectories/{run}/{step}\")\n",
    "    df = pd.concat([pd.read_json(file, lines=True) for file in trajectory_path.glob(\"[0-9]*.jsonl\")])\n",
    "    df[\"transition_prob_val\"] = df[\"transition_probs\"].apply(lambda x: x[\"yes\"])\n",
    "    df[\"preferences_val\"]= df[\"preferences\"].apply(lambda x: sum([int(key)*x[key] for key in x]))\n",
    "    return df\n",
    "dfs = {key: load_df(runs[key]) for key in runs}"
   ]
  },
  {
   "cell_type": "code",
   "execution_count": null,
   "id": "4",
   "metadata": {},
   "outputs": [],
   "source": [
    "for run in runs:\n",
    "    prob_cutoff = 0.9\n",
    "    num = sum(dfs[run][\"transition_prob_val\"]>prob_cutoff)\n",
    "    denom = len(dfs[run])\n",
    "    print(f\"For perspective {run} the fraction of turns with transition probs larger than {prob_cutoff} is: {100.*num/denom:.3g}%\")\n",
    "    #{1.*num/denom}\")"
   ]
  },
  {
   "cell_type": "code",
   "execution_count": null,
   "id": "5",
   "metadata": {},
   "outputs": [],
   "source": [
    "df.hist('transition_prob_val', by='env_name')"
   ]
  },
  {
   "cell_type": "code",
   "execution_count": null,
   "id": "6",
   "metadata": {},
   "outputs": [],
   "source": [
    "df_high_trans.iloc[0][\"history\"]\n"
   ]
  }
 ],
 "metadata": {
  "kernelspec": {
   "display_name": "influence",
   "language": "python",
   "name": "influence"
  },
  "language_info": {
   "codemirror_mode": {
    "name": "ipython",
    "version": 3
   },
   "file_extension": ".py",
   "mimetype": "text/x-python",
   "name": "python",
   "nbconvert_exporter": "python",
   "pygments_lexer": "ipython3",
   "version": "3.11.9"
  }
 },
 "nbformat": 4,
 "nbformat_minor": 5
}
