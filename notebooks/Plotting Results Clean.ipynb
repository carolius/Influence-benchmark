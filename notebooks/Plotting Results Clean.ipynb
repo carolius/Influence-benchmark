{
 "cells": [
  {
   "cell_type": "code",
   "execution_count": null,
   "metadata": {},
   "outputs": [],
   "source": [
    "%load_ext autoreload\n",
    "%autoreload 2\n",
    "from influence_benchmark.utils.utils import *\n",
    "from influence_benchmark.retroactive_evaluator.plot_retroactive_evals import *\n",
    "from influence_benchmark.retroactive_evaluator.plot_retro_aggregated import *\n",
    "\n",
    "from pprint import pprint"
   ]
  },
  {
   "cell_type": "markdown",
   "metadata": {},
   "source": [
    "# Weak envs"
   ]
  },
  {
   "cell_type": "code",
   "execution_count": null,
   "metadata": {},
   "outputs": [],
   "source": [
    "category = \"weak\"\n",
    "max_iter_per_run = MatchDict({\"action-advice\": 12, \"politics\": 10, \"tickets\": 10, \"therapist\": 16})\n",
    "run_data, run_data_best = get_run_data(category, max_iter_per_run_dict=max_iter_per_run)\n",
    "\n",
    "plot_multiple_run_aggregate_metrics(run_data, main_title=\"Emergence dynamics of harmful behaviors under user feedback RL training\")\n",
    "plot_single_category_comparison(run_data_best, category_name=category, save_path=None, main_title=\"Aggregate measures of problematic Behaviors for the different environments\")"
   ]
  },
  {
   "cell_type": "code",
   "execution_count": null,
   "metadata": {},
   "outputs": [],
   "source": [
    "categories = {\n",
    "    \"vetos_therapist\": \"Therapy-talk\",\n",
    "    \"vetos_tickets\": \"Booking-assistance\",\n",
    "    \"vetos_action-advice\": \"Action-advice\",\n",
    "    \"vetos_politics\": \"Political-question\"\n",
    "}\n",
    "titles = titles_s = {\n",
    "    \"weak-therapist1t-env-09_21_084743\": \"No Veto\", \"GPT_Veto_Therapist-09_25_155923\": \"Normal\", \"GPT_Const_Veto_Therapist-09_25_155915\": \"Constitutional\", \"5_veto_therapist_2-09-29_12-21-54\": \"5-point\", \"negative_veto_therapist-09_29_005739\": \"Negative\",\n",
    "    \"KTO_tickets-10-01_09-06-24\": \"No Veto\", \"GPT_Veto_Tickets-10-01_15-20-03\": \"Normal\", \"GPT_Const_Veto_Tickets-10-01_16-12-56\": \"Constitutional\", \"5_veto_tickets-10-01_11-37-01\": \"5-point\", \"negative_veto_tickets-10-01_14-03-53\": \"Negative\",\n",
    "    \"action-advice-09_29_150113\": \"No Veto\", \"gpt_veto_action-advice-09_29_161239\": \"Normal\", \"gpt_const_veto_action-advice-09-30_12-12-48\": \"Constitutional\", \"5_veto_action-advice-09-30_12-52-24\": \"5-point\", \"negative_veto_action-advice-09_29_161250\": \"Negative\",\n",
    "    \"politics-09-30_06-54-40\": \"No Veto\", \"gpt_veto_politics-09-30_08-12-02\": \"Normal\", \"gpt_const_veto_politics-09_30_night\": \"Constitutional\", \"5_veto_politics-09_30_011050\": \"5-point\", \"negative_veto_politics-09_30_011044\": \"Negative\",\n",
    "}\n",
    "run_datas = {nice_name: get_run_data(category, titles_dict=titles)[0] for category, nice_name in categories.items()}\n",
    "run_datas_best = {nice_name: get_run_data(category, titles_dict=titles)[1] for category, nice_name in categories.items()}\n",
    "\n",
    "\n",
    "plot_first_multi_category_run_comparison(run_datas_best, save_path=None, veto=True, title=\"Comparison of Vetos on the different environments\")\n",
    "\n"
   ]
  },
  {
   "cell_type": "markdown",
   "metadata": {},
   "source": [
    "# Single mixed setting"
   ]
  },
  {
   "cell_type": "code",
   "execution_count": null,
   "metadata": {},
   "outputs": [],
   "source": [
    "category = \"mixed\"\n",
    "\n",
    "titles = {\n",
    "    \"mixed-therapist1t-env-09-27_20-29-41\": \"50% vulnerable users\",\n",
    "    \"mixed-therapist1t-env-30p-09_24_225756\": \"30% vulnerable users\",\n",
    "    \"mixed-therapist1t-env-20p-09_25_105101\": \"20% vulnerable users\",\n",
    "    \"mixed-therapist1t-env-10p-09_27_180249\": \"10% vulnerable users\",\n",
    "}\n",
    "max_iter_per_run = {\"mixed-therapist1t-env-10p-09_27_180249\": 23}\n",
    "\n",
    "paired_run_data, _ = get_run_data(category, titles_dict=titles, max_iter_per_run_dict=max_iter_per_run, weak_normal_split=True)\n",
    "plot_paired_run_aggregate_metrics(paired_run_data, figsize=(20, 6), save_name=\"figures/mixed.png\", main_title=\"Training dynamics of harmful behaviors for the different vulnerable user fractions\")\n",
    "\n",
    "titles = {\n",
    "    \"mixed-therapist1t-env-09-27_20-29-41\": \"50%\",\n",
    "    \"mixed-therapist1t-env-30p-09_24_225756\": \"30%\",\n",
    "    \"mixed-therapist1t-env-20p-09_25_105101\": \"20%\",\n",
    "    \"mixed-therapist1t-env-10p-09_27_180249\": \"10%\",\n",
    "}\n",
    "_, paired_run_data_best = get_run_data(category, titles_dict=titles, max_iter_per_run_dict=max_iter_per_run, weak_normal_split=True)\n",
    "plot_initial_vs_final_comparison(paired_run_data_best, save_path=None)"
   ]
  },
  {
   "cell_type": "markdown",
   "metadata": {},
   "source": [
    "# Veto - Normal/Const"
   ]
  },
  {
   "cell_type": "code",
   "execution_count": null,
   "metadata": {},
   "outputs": [],
   "source": [
    "category = \"testing\"\n",
    "run_data, run_data_best = get_run_data(category, max_iter_per_run_dict={\"5_veto_tickets-09-30_13-43-44\": 10})\n",
    "plot_multiple_run_aggregate_metrics(run_data)\n",
    "#plot_single_category_comparison(run_data_best, category_name=category, save_path=None)"
   ]
  },
  {
   "cell_type": "code",
   "execution_count": null,
   "metadata": {},
   "outputs": [],
   "source": [
    "category = \"veto_normal\"\n",
    "run_data, run_data_best = get_run_data(category)\n",
    "plot_multiple_run_aggregate_metrics(run_data, main_title=\"Training dynamics of harmful behaviors when training with a binary veto\")\n",
    "plot_single_category_comparison(run_data_best, category_name=category, save_path=None, main_title=\"Aggregate measures of problematic behaviors when training with a binary veto\")\n",
    "\n",
    "category = \"veto_const\"\n",
    "run_data, run_data_best = get_run_data(category)\n",
    "plot_multiple_run_aggregate_metrics(run_data, main_title=\"Training dynamics of harmful behaviors when training with a constitutional veto\")\n",
    "plot_single_category_comparison(run_data_best, category_name=category, save_path=None, main_title=\"Aggregate measures of problematic behaviors when training with a constitutional veto\")\n",
    "\n",
    "category = \"veto_5_point\"\n",
    "run_data, run_data_best = get_run_data(category)\n",
    "plot_multiple_run_aggregate_metrics(run_data, main_title=\"Training dynamics of harmful behaviors when training with a 5-point veto\")\n",
    "plot_single_category_comparison(run_data_best, category_name=category, save_path=None, main_title=\"Aggregate measures of problematic behaviors when training with a 5-point veto\")\n",
    "\n",
    "category = \"veto_negative\"\n",
    "run_data, run_data_best = get_run_data(category)\n",
    "plot_multiple_run_aggregate_metrics(run_data, main_title=\"Training dynamics of harmful behaviors when doing negative training on the vetoed trajectories\")\n",
    "plot_single_category_comparison(run_data_best, category_name=category, save_path=None, main_title=\"Aggregate measures of problematic behaviors when doing negative training on the vetoed trajectories\")"
   ]
  },
  {
   "cell_type": "markdown",
   "metadata": {},
   "source": [
    "# Big model plots"
   ]
  },
  {
   "cell_type": "code",
   "execution_count": null,
   "metadata": {},
   "outputs": [],
   "source": [
    "categories = [\"gemma-2-2B\", \"gemma-2-9B\", \"gemma-2-27B\"]\n",
    "run_datas = {category: get_run_data(category)[0] for category in categories}\n",
    "run_datas_best = {category: get_run_data(category)[1] for category in categories}\n",
    "for category, run_data in run_datas.items():\n",
    "    plot_multiple_run_aggregate_metrics(run_data, category_name=category, main_title=\"Harmful behaviors emerge in Gemma-2-27B\")\n",
    "plot_multi_category_run_comparison(run_datas_best, save_path=None, main_title=\"Problematic behaviors when training Gemma models as the agent (2B, 9B, and 27B)\")"
   ]
  },
  {
   "cell_type": "markdown",
   "metadata": {},
   "source": [
    "# Gemma veto runs"
   ]
  },
  {
   "cell_type": "code",
   "execution_count": null,
   "metadata": {},
   "outputs": [],
   "source": [
    "categories = [\"gemma-therapist-veto2B\", \"gemma-therapist-veto9B\", \"gemma-therapist-veto27B\"]\n",
    "titles = MatchDict({\"v2-\": \"2B Veto\", \"v9-\": \"9B Veto\", \"v27-\": \"27B Veto\"})\n",
    "run_datas = {category: get_run_data(category, titles_dict=titles) for category in categories}\n",
    "for category, run_data in run_datas.items():\n",
    "    plot_multiple_run_aggregate_metrics(run_data)\n",
    "plot_multi_category_run_comparison(run_datas, save_path=None)"
   ]
  },
  {
   "cell_type": "markdown",
   "metadata": {},
   "source": [
    "# HH runs"
   ]
  },
  {
   "cell_type": "code",
   "execution_count": null,
   "metadata": {},
   "outputs": [],
   "source": [
    "categories = {\n",
    "    \"HH-therapist\": \"Therapy-talk\",\n",
    "    \"HH-tickets\": \"Booking-Assistance\"\n",
    "}\n",
    "titles = MatchDict({\"25p\": \"25% HH data\", \"50p\": \"50% HH data\", \"75p\": \"75% HH data\"}, default=\"0% HH data\")\n",
    "run_datas = {nice_name: get_run_data(category, titles_dict=titles)[0] for category, nice_name in categories.items()}\n",
    "run_datas_best = {nice_name: get_run_data(category, titles_dict=titles)[1] for category, nice_name in categories.items()}\n",
    "# for category, run_data in run_datas.items():\n",
    "#     plot_multiple_run_aggregate_metrics(run_data)\n",
    "plot_first_multi_category_run_comparison(run_datas_best, save_path=None, veto=False)"
   ]
  },
  {
   "cell_type": "code",
   "execution_count": null,
   "metadata": {},
   "outputs": [],
   "source": []
  }
 ],
 "metadata": {
  "kernelspec": {
   "display_name": "influence",
   "language": "python",
   "name": "python3"
  },
  "language_info": {
   "codemirror_mode": {
    "name": "ipython",
    "version": 3
   },
   "file_extension": ".py",
   "mimetype": "text/x-python",
   "name": "python",
   "nbconvert_exporter": "python",
   "pygments_lexer": "ipython3",
   "version": "3.11.9"
  }
 },
 "nbformat": 4,
 "nbformat_minor": 2
}
