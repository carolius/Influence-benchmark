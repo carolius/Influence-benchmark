{
 "cells": [
  {
   "cell_type": "code",
   "execution_count": 19,
   "metadata": {},
   "outputs": [],
   "source": [
    "from names_dataset import NameDataset\n",
    "\n",
    "nd = NameDataset()"
   ]
  },
  {
   "cell_type": "code",
   "execution_count": 17,
   "metadata": {},
   "outputs": [],
   "source": [
    "from typing import Dict, List, Optional\n",
    "from collections import defaultdict\n",
    "\n",
    "def get_top_names(\n",
    "        names_data: 'NameDataset',\n",
    "        n: int = 100,\n",
    "        use_first_names: bool = True,\n",
    "        gender: Optional[str] = None,\n",
    "        ascii_only: bool = True\n",
    ") -> Dict[str, List[str]]:\n",
    "    if n <= 0:\n",
    "        raise ValueError('[n] has to be positive.')\n",
    "    if use_first_names and names_data.first_names is None:\n",
    "        raise ValueError('First names data is not loaded.')\n",
    "    if not use_first_names and names_data.last_names is None:\n",
    "        raise ValueError('Last names data is not loaded.')\n",
    "    if gender is not None:\n",
    "        if gender.title() in ['M', 'Male']:\n",
    "            gender = 'M'\n",
    "        elif gender.title() in ['F', 'Female']:\n",
    "            gender = 'F'\n",
    "        else:\n",
    "            raise ValueError('Invalid gender value.')\n",
    "    if not use_first_names and gender is not None:\n",
    "        raise ValueError('Selecting a gender for last names is invalid.')\n",
    "\n",
    "    global_ranks = defaultdict(lambda: defaultdict(float))\n",
    "    lookup_table = names_data.first_names if use_first_names else names_data.last_names\n",
    "\n",
    "    for name, name_info in lookup_table.items():\n",
    "        if ascii_only and not name.isascii():\n",
    "            continue  # Skip non-ASCII names if ascii_only is True\n",
    "        \n",
    "        if len(name_info['gender']) == 0:\n",
    "            gender_ = 'N/A'  # default\n",
    "        elif len(name_info['gender']) == 1:\n",
    "            gender_ = list(name_info['gender'].keys())[0]\n",
    "        else:\n",
    "            gender_ = 'M' if name_info['gender']['M'] > name_info['gender']['F'] else 'F'\n",
    "        \n",
    "        if gender is None or gender == gender_:\n",
    "            for country_, rank in name_info['rank'].items():\n",
    "                global_ranks[gender_][name] += 1 / rank  # Use inverse rank as a score\n",
    "\n",
    "    top_names = {}\n",
    "    for gender_ in global_ranks:\n",
    "        sorted_names = sorted(global_ranks[gender_].items(), key=lambda x: x[1], reverse=True)\n",
    "        top_names[gender_] = [name for name, score in sorted_names[:n]]\n",
    "\n",
    "    if not use_first_names:\n",
    "        return {'N/A': top_names['N/A']}\n",
    "    else:\n",
    "        if 'N/A' in top_names:\n",
    "            del top_names['N/A']\n",
    "        return top_names"
   ]
  },
  {
   "cell_type": "code",
   "execution_count": 23,
   "metadata": {},
   "outputs": [],
   "source": [
    "top_20000_names = get_top_names(nd, n=10000)[\"M\"] + get_top_names(nd, n=10000)[\"F\"]"
   ]
  },
  {
   "cell_type": "code",
   "execution_count": 24,
   "metadata": {},
   "outputs": [],
   "source": [
    "# Save in a yaml file\n",
    "import yaml\n",
    "\n",
    "with open('top_names.yaml', 'w') as f:\n",
    "    yaml.dump(top_20000_names, f)"
   ]
  },
  {
   "cell_type": "code",
   "execution_count": null,
   "metadata": {},
   "outputs": [],
   "source": []
  }
 ],
 "metadata": {
  "kernelspec": {
   "display_name": "influence",
   "language": "python",
   "name": "python3"
  },
  "language_info": {
   "codemirror_mode": {
    "name": "ipython",
    "version": 3
   },
   "file_extension": ".py",
   "mimetype": "text/x-python",
   "name": "python",
   "nbconvert_exporter": "python",
   "pygments_lexer": "ipython3",
   "version": "3.10.14"
  }
 },
 "nbformat": 4,
 "nbformat_minor": 2
}
