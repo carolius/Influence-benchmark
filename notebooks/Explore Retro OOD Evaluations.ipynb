{
 "cells": [
  {
   "cell_type": "code",
   "execution_count": 1,
   "metadata": {},
   "outputs": [
    {
     "name": "stderr",
     "output_type": "stream",
     "text": [
      "/nas/ucb/adhyyan/miniconda3/envs/influence/lib/python3.11/site-packages/tqdm/auto.py:21: TqdmWarning: IProgress not found. Please update jupyter and ipywidgets. See https://ipywidgets.readthedocs.io/en/stable/user_install.html\n",
      "  from .autonotebook import tqdm as notebook_tqdm\n"
     ]
    }
   ],
   "source": [
    "import json\n",
    "import multiprocessing as mp\n",
    "import time\n",
    "from datetime import datetime\n",
    "from pathlib import Path\n",
    "from typing import Optional, Tuple\n",
    "\n",
    "import yaml\n",
    "from tqdm import tqdm\n",
    "\n",
    "from influence_benchmark.agent.agent import Agent\n",
    "from influence_benchmark.config.experiment_config import BaseExperimentConfig\n",
    "from influence_benchmark.data_root import PROJECT_DATA\n",
    "from influence_benchmark.environment_vectorized.environment_queue import TrajectoryQueue\n",
    "from influence_benchmark.environment_vectorized.environment_vectorized import VectorizedEnvironment\n",
    "from influence_benchmark.root import ENV_CONFIGS_DIR\n",
    "from influence_benchmark.utils.utils import find_freest_gpus, load_yaml, model_name_to_backend_class, set_all_seeds"
   ]
  },
  {
   "cell_type": "code",
   "execution_count": 2,
   "metadata": {},
   "outputs": [],
   "source": [
    "from influence_benchmark.RL.trajectory_generator import TrajectoryGenerator"
   ]
  },
  {
   "cell_type": "code",
   "execution_count": 3,
   "metadata": {},
   "outputs": [],
   "source": [
    "def kickoff_trajectory_generation(config, lora_path, run_name):\n",
    "    if config.seed is not None:\n",
    "        print(f\"Setting all seeds to: {config.seed}\")\n",
    "        set_all_seeds(config.seed)\n",
    "\n",
    "    mp.set_start_method(\"spawn\", force=True)\n",
    "\n",
    "    print(f\"Total of {config.num_envs_per_device * len(config.devices)} parallel envs\")\n",
    "\n",
    "    print(config.env_args)\n",
    "    generator = TrajectoryGenerator(\n",
    "        env_args=config.env_args,\n",
    "        agent_model_name=config.agent_model_name,\n",
    "        env_model_name=config.env_model_name,\n",
    "        lora_path=lora_path,\n",
    "        n_trajs_per_initial_state=config.n_trajs_to_sample_per_subenv,\n",
    "        run_name=run_name,\n",
    "        devices=config.devices,\n",
    "        pm_length_penalty=config.pm_length_penalty,\n",
    "        seed=config.seed,\n",
    "        max_tokens_per_minute=config.max_tokens_per_minute,\n",
    "        max_requests_per_minute=config.max_requests_per_minute,\n",
    "    )\n",
    "\n",
    "    traj_iter_dir = Path(generator.traj_dir) / \"iteration_0\"\n",
    "    generator._multiprocess_generate_trajectories(\n",
    "        traj_iter_dir, iter_step=0, n_trajs_per_initial_state=config.n_trajs_to_sample_per_subenv\n",
    "    )\n",
    "\n",
    "    print(f\"Trajectory generation complete. Results saved in: {traj_iter_dir}\")\n"
   ]
  },
  {
   "cell_type": "markdown",
   "metadata": {},
   "source": [
    "## Generate trajectories"
   ]
  },
  {
   "cell_type": "code",
   "execution_count": 4,
   "metadata": {},
   "outputs": [],
   "source": [
    "CONFIG_PATH = \"mixed_therapist_traj_gen.yaml\"\n",
    "lora_path = \"/nas/ucb/adhyyan/Influence-benchmark/data/models/weak-therapist1t-09-11_22-36-17/10/checkpoint-96\"\n",
    "run_name = \"mixed_therapist_traj_gen\""
   ]
  },
  {
   "cell_type": "code",
   "execution_count": 5,
   "metadata": {},
   "outputs": [
    {
     "name": "stdout",
     "output_type": "stream",
     "text": [
      "GPUs [5, 1] are the 2 most free\n",
      "GPU indices to run on: [5, 1]\n",
      "Creating config from file mixed_therapist_traj_gen.yaml\n",
      "Creating Expert Iteration config\n",
      "Using Single_GPU Accelerate config\n",
      "Accelerate training on GPUs: [5]\n",
      "Set gradient_accumulation_steps to 16\n"
     ]
    }
   ],
   "source": [
    "config = BaseExperimentConfig.load(CONFIG_PATH, gpu_subset=find_freest_gpus(2))\n",
    "timestamp = datetime.now().strftime(\"%Y%m%d_%H%M%S\")"
   ]
  },
  {
   "cell_type": "code",
   "execution_count": 6,
   "metadata": {},
   "outputs": [
    {
     "name": "stdout",
     "output_type": "stream",
     "text": [
      "Total of 50 parallel envs\n",
      "{'env_class': 'therapist', 'envs': None, 'max_turns': 1, 'print': False, 'num_envs_per_device': 25, 'n_subenvs_to_sample_per_env': 2, 'n_trajs_to_sample_per_subenv': 2, 'subenv_choice_scheme': 'random', 'env_fractions': {'weak': 0.5, 'normal': 0.5}}\n",
      "Loading env configs: ['normal_eating', 'normal_over-spending', 'normal_anger', 'normal_social-isolation', 'weak_eating', 'normal_implusive-decision', 'weak_theft', 'weak_smoking', 'weak_neglecting-responsibility', 'weak_gambling', 'weak_over-spending', 'normal_neglecting-responsibility', 'normal_substances', 'normal_violence', 'weak_implusive-decision', 'normal_drinking', 'weak_substances', 'weak_social-isolation', 'normal_theft', 'weak_drinking', 'weak_violence', 'normal_gambling', 'weak_anger', 'normal_smoking']\n",
      "# of subenvs to choose by environment for each training iteration:\n",
      "{'normal_eating': 2, 'normal_over-spending': 2, 'normal_anger': 2, 'normal_social-isolation': 2, 'weak_eating': 2, 'normal_implusive-decision': 2, 'weak_theft': 2, 'weak_smoking': 2, 'weak_neglecting-responsibility': 2, 'weak_gambling': 2, 'weak_over-spending': 2, 'normal_neglecting-responsibility': 2, 'normal_substances': 2, 'normal_violence': 2, 'weak_implusive-decision': 2, 'normal_drinking': 2, 'weak_substances': 2, 'weak_social-isolation': 2, 'normal_theft': 2, 'weak_drinking': 2, 'weak_violence': 2, 'normal_gambling': 2, 'weak_anger': 2, 'normal_smoking': 2}\n",
      "Generating subenviroments ['1246' '432'] for environment normal_eating\n",
      "Generating subenviroments ['233' '828'] for environment normal_over-spending\n",
      "Generating subenviroments ['1428' '1153'] for environment normal_anger\n",
      "Generating subenviroments ['597' '1347'] for environment normal_social-isolation\n",
      "Generating subenviroments ['1945' '901'] for environment weak_eating\n",
      "Generating subenviroments ['984' '1974'] for environment normal_implusive-decision\n",
      "Generating subenviroments ['691' '1063'] for environment weak_theft\n",
      "Generating subenviroments ['66' '432'] for environment weak_smoking\n",
      "Generating subenviroments ['1869' '454'] for environment weak_neglecting-responsibility\n",
      "Generating subenviroments ['908' '1306'] for environment weak_gambling\n",
      "Generating subenviroments ['761' '1916'] for environment weak_over-spending\n",
      "Generating subenviroments ['1108' '105'] for environment normal_neglecting-responsibility\n",
      "Generating subenviroments ['1436' '81'] for environment normal_substances\n",
      "Generating subenviroments ['182' '811'] for environment normal_violence\n",
      "Generating subenviroments ['1063' '1553'] for environment weak_implusive-decision\n",
      "Generating subenviroments ['488' '1856'] for environment normal_drinking\n",
      "Generating subenviroments ['629' '567'] for environment weak_substances\n",
      "Generating subenviroments ['1635' '498'] for environment weak_social-isolation\n",
      "Generating subenviroments ['641' '599'] for environment normal_theft\n",
      "Generating subenviroments ['1459' '1239'] for environment weak_drinking\n",
      "Generating subenviroments ['1018' '735'] for environment weak_violence\n",
      "Generating subenviroments ['1176' '238'] for environment normal_gambling\n",
      "Generating subenviroments ['577' '1705'] for environment weak_anger\n",
      "Generating subenviroments ['65' '549'] for environment normal_smoking\n",
      "Total trajectories to generate: 96\tEach traj with up to 1 turns each\tUp to 192 total messages\n"
     ]
    },
    {
     "name": "stderr",
     "output_type": "stream",
     "text": [
      "Completed environments for iteration 0:   0%|          | 0/96 [00:00<?, ?it/s]"
     ]
    },
    {
     "name": "stdout",
     "output_type": "stream",
     "text": [
      "Entered generate_trajectories on device cuda:5\n",
      "Loaded agent config on device cuda:5\n"
     ]
    },
    {
     "name": "stderr",
     "output_type": "stream",
     "text": [
      "Loading checkpoint shards: 100%|██████████| 4/4 [00:00<00:00, 12.64it/s]\n"
     ]
    },
    {
     "name": "stdout",
     "output_type": "stream",
     "text": [
      "Entered generate_trajectories on device cuda:1\n",
      "Loaded agent config on device cuda:1\n"
     ]
    },
    {
     "name": "stderr",
     "output_type": "stream",
     "text": [
      "Loading checkpoint shards: 100%|██████████| 4/4 [00:00<00:00, 10.58it/s]\n"
     ]
    },
    {
     "name": "stdout",
     "output_type": "stream",
     "text": [
      "Adding adapter.\n",
      "Adding adapter.\n",
      "Created environment and agent on device cuda:5\n",
      "Created environment and agent on device cuda:1\n"
     ]
    },
    {
     "name": "stderr",
     "output_type": "stream",
     "text": [
      "Completed environments for iteration 0:  52%|█████▏    | 50/96 [01:40<01:32,  2.00s/it]"
     ]
    },
    {
     "name": "stdout",
     "output_type": "stream",
     "text": [
      "Generated trajectories on device cuda:1\n",
      "Saved trajectories to /nas/ucb/adhyyan/Influence-benchmark/influence_benchmark/../data/trajectories/mixed_therapist_traj_gen-09-12_12-04/iteration_0/1.jsonl on device cuda:1\n"
     ]
    },
    {
     "name": "stderr",
     "output_type": "stream",
     "text": [
      "Completed environments for iteration 0:  74%|███████▍  | 71/96 [02:07<00:44,  1.79s/it]"
     ]
    },
    {
     "name": "stdout",
     "output_type": "stream",
     "text": [
      "Generated trajectories on device cuda:5\n",
      "Saved trajectories to /nas/ucb/adhyyan/Influence-benchmark/influence_benchmark/../data/trajectories/mixed_therapist_traj_gen-09-12_12-04/iteration_0/5.jsonl on device cuda:5\n"
     ]
    },
    {
     "name": "stderr",
     "output_type": "stream",
     "text": [
      "Completed environments for iteration 0: 100%|██████████| 96/96 [02:18<00:00,  1.44s/it]"
     ]
    },
    {
     "name": "stdout",
     "output_type": "stream",
     "text": [
      "Trajectory generation complete. Results saved in: /nas/ucb/adhyyan/Influence-benchmark/influence_benchmark/../data/trajectories/mixed_therapist_traj_gen-09-12_12-04/iteration_0\n"
     ]
    },
    {
     "name": "stderr",
     "output_type": "stream",
     "text": [
      "\n"
     ]
    }
   ],
   "source": [
    "kickoff_trajectory_generation(config, lora_path, run_name)"
   ]
  }
 ],
 "metadata": {
  "kernelspec": {
   "display_name": "influence",
   "language": "python",
   "name": "python3"
  },
  "language_info": {
   "codemirror_mode": {
    "name": "ipython",
    "version": 3
   },
   "file_extension": ".py",
   "mimetype": "text/x-python",
   "name": "python",
   "nbconvert_exporter": "python",
   "pygments_lexer": "ipython3",
   "version": "3.11.9"
  }
 },
 "nbformat": 4,
 "nbformat_minor": 2
}
