{
 "cells": [
  {
   "cell_type": "code",
   "execution_count": 2,
   "metadata": {},
   "outputs": [
    {
     "name": "stdout",
     "output_type": "stream",
     "text": [
      "/nas/ucb/micah/Influence-benchmark/influence_benchmark/../data/models/kto-therapist-half-subenvs-08-25_22-52/11\n",
      "/nas/ucb/micah/Influence-benchmark/influence_benchmark/../data/models/kto-therapist-half-subenvs-08-25_22-52/6\n",
      "/nas/ucb/micah/Influence-benchmark/influence_benchmark/../data/models/kto-therapist-half-subenvs-08-25_22-52/1\n",
      "/nas/ucb/micah/Influence-benchmark/influence_benchmark/../data/models/kto-therapist-half-subenvs-08-25_22-52/5\n",
      "/nas/ucb/micah/Influence-benchmark/influence_benchmark/../data/models/kto-therapist-half-subenvs-08-25_22-52/2\n",
      "/nas/ucb/micah/Influence-benchmark/influence_benchmark/../data/models/kto-therapist-half-subenvs-08-25_22-52/8\n",
      "/nas/ucb/micah/Influence-benchmark/influence_benchmark/../data/models/kto-therapist-half-subenvs-08-25_22-52/0\n",
      "/nas/ucb/micah/Influence-benchmark/influence_benchmark/../data/models/kto-therapist-half-subenvs-08-25_22-52/7\n",
      "/nas/ucb/micah/Influence-benchmark/influence_benchmark/../data/models/kto-therapist-half-subenvs-08-25_22-52/10\n",
      "/nas/ucb/micah/Influence-benchmark/influence_benchmark/../data/models/kto-therapist-half-subenvs-08-25_22-52/9\n",
      "/nas/ucb/micah/Influence-benchmark/influence_benchmark/../data/models/kto-therapist-half-subenvs-08-25_22-52/3\n",
      "/nas/ucb/micah/Influence-benchmark/influence_benchmark/../data/models/kto-therapist-half-subenvs-08-25_22-52/4\n"
     ]
    }
   ],
   "source": [
    "from pathlib import PosixPath\n",
    "from influence_benchmark.RL.KTO import KTO\n",
    "from influence_benchmark.backend.hf_backend import HFBackend\n",
    "from influence_benchmark.data_root import PROJECT_DATA\n",
    "\n",
    "run_name = \"kto-therapist-half-subenvs-08-25_22-52\"\n",
    "\n",
    "run_dir = PROJECT_DATA / \"models\" / run_name\n",
    "\n",
    "# Iterate over all subdirs in run_dir\n",
    "for subdir in run_dir.iterdir():\n",
    "    if subdir.is_dir():\n",
    "        print(subdir)\n",
    "\n"
   ]
  },
  {
   "cell_type": "code",
   "execution_count": 16,
   "metadata": {},
   "outputs": [
    {
     "name": "stdout",
     "output_type": "stream",
     "text": [
      "Generating subenviroments [1, 2] for environment anger\n",
      "Generating subenviroments [1, 2] for environment smoking\n",
      "Total trajectories to generate: 4\tEach traj with up to 1 turns each\tUp to 8 total messages\n"
     ]
    },
    {
     "name": "stderr",
     "output_type": "stream",
     "text": [
      "Loading checkpoint shards: 100%|██████████| 4/4 [00:00<00:00,  6.73it/s]it/s]\n",
      "Loading checkpoint shards: 100%|██████████| 4/4 [00:00<00:00,  6.09it/s]\n"
     ]
    },
    {
     "name": "stdout",
     "output_type": "stream",
     "text": [
      "Generating trajectories on device cuda:2\n",
      "WARNING: you're using too many GPUs for the number of trajectories you're generating!\n",
      "WARNING: you're using too many GPUs for the number of trajectories you're generating!\n",
      "Generating trajectories on device cuda:0\n"
     ]
    },
    {
     "name": "stderr",
     "output_type": "stream",
     "text": [
      "Completed environments for iteration 0:  25%|██▌       | 1/4 [00:22<01:06, 22.03s/it]"
     ]
    },
    {
     "name": "stdout",
     "output_type": "stream",
     "text": [
      "Generated and saved 4 trajectories with avg length 1.00\n",
      "====================\n",
      "ITERATION 0 STATS:\n",
      "\tAvg reward:\t4.25  (0.65)\tAvg influence:\t1.46 (0.24)\tAvg reward (top n):\t4.25 (0.65)\tAvg influence (top n):\t1.46 (0.24)\n",
      "\n",
      "Env anger:\n",
      "\tAvg reward: 5.13 (0.95)\tAvg influence: 1.85 (0.15)\tinitial_state: 100.00\t\n",
      "Env smoking:\n",
      "\tAvg reward: 3.36 (0.26)\tAvg influence: 1.07 (0.07)\tinitial_state: 100.00\t\n",
      "====================\n"
     ]
    },
    {
     "name": "stderr",
     "output_type": "stream",
     "text": [
      "\n"
     ]
    },
    {
     "data": {
      "text/plain": [
       "PosixPath('/nas/ucb/micah/Influence-benchmark/influence_benchmark/../data/trajectories/test-08-28_22-18/0')"
      ]
     },
     "execution_count": 16,
     "metadata": {},
     "output_type": "execute_result"
    }
   ],
   "source": [
    "\n",
    "# backend = HFBackend(model_name=\"meta-llama/Meta-Llama-3-8B-Instruct\", model_id=None, lora_path=str(lora_dir), device=\"cuda\")\n",
    "\n",
    "bi = KTO(\n",
    "    env_args={\"env_class\": \"therapist\", \"envs\": [\"anger\", \"smoking\"], \"max_subenvs_per_env\": 2, \"max_turns\": 1, \"num_envs_per_device\": 3, \"print\": False},\n",
    "    training_args={},\n",
    "    script_path=\"\",\n",
    "    agent_model_name=\"meta-llama/Meta-Llama-3-8B-Instruct\",\n",
    "    env_model_name=\"meta-llama/Meta-Llama-3-8B-Instruct\",\n",
    "    n_trajs_per_initial_state=16,\n",
    "    iterations=0,\n",
    "    top_n_trajs_per_initial_state=1,\n",
    "    run_name=\"test\",\n",
    "    devices=[0,2],\n",
    "    log_to_wandb=False,\n",
    "    final_reward=False,\n",
    "    seed=None,\n",
    "    override_initial_traj_path=None,\n",
    "    pm_length_penalty=None,\n",
    "    accelerate_config=None,\n",
    ")\n",
    "bi._generate_and_select_trajectories(0, 1)"
   ]
  },
  {
   "cell_type": "code",
   "execution_count": null,
   "metadata": {},
   "outputs": [],
   "source": []
  }
 ],
 "metadata": {
  "kernelspec": {
   "display_name": "influence",
   "language": "python",
   "name": "python3"
  },
  "language_info": {
   "codemirror_mode": {
    "name": "ipython",
    "version": 3
   },
   "file_extension": ".py",
   "mimetype": "text/x-python",
   "name": "python",
   "nbconvert_exporter": "python",
   "pygments_lexer": "ipython3",
   "version": "3.10.14"
  }
 },
 "nbformat": 4,
 "nbformat_minor": 2
}
